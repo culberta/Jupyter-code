{
 "cells": [
  {
   "cell_type": "code",
   "execution_count": 1,
   "metadata": {},
   "outputs": [
    {
     "name": "stdout",
     "output_type": "stream",
     "text": [
      "(1, 17999, 36000)\n",
      "2011-11-01 09:00:00\n",
      "(4200, 2500)\n"
     ]
    },
    {
     "data": {
      "text/plain": [
       "<Figure size 640x480 with 2 Axes>"
      ]
     },
     "metadata": {},
     "output_type": "display_data"
    },
    {
     "name": "stdout",
     "output_type": "stream",
     "text": [
      "(1, 17999, 36000)\n",
      "2011-11-02 09:00:00\n",
      "(4200, 2500)\n"
     ]
    },
    {
     "data": {
      "text/plain": [
       "<Figure size 640x480 with 2 Axes>"
      ]
     },
     "metadata": {},
     "output_type": "display_data"
    },
    {
     "name": "stdout",
     "output_type": "stream",
     "text": [
      "(1, 17999, 36000)\n",
      "2011-11-03 09:00:00\n",
      "(4200, 2500)\n"
     ]
    },
    {
     "data": {
      "text/plain": [
       "<Figure size 640x480 with 2 Axes>"
      ]
     },
     "metadata": {},
     "output_type": "display_data"
    },
    {
     "name": "stdout",
     "output_type": "stream",
     "text": [
      "(1, 17999, 36000)\n",
      "2011-11-04 09:00:00\n",
      "(4200, 2500)\n"
     ]
    },
    {
     "data": {
      "text/plain": [
       "<Figure size 640x480 with 2 Axes>"
      ]
     },
     "metadata": {},
     "output_type": "display_data"
    },
    {
     "name": "stdout",
     "output_type": "stream",
     "text": [
      "(1, 17999, 36000)\n",
      "2011-11-05 09:00:00\n",
      "(4200, 2500)\n"
     ]
    },
    {
     "data": {
      "text/plain": [
       "<Figure size 640x480 with 2 Axes>"
      ]
     },
     "metadata": {},
     "output_type": "display_data"
    },
    {
     "name": "stdout",
     "output_type": "stream",
     "text": [
      "(1, 17999, 36000)\n",
      "2011-11-06 09:00:00\n",
      "(4200, 2500)\n"
     ]
    },
    {
     "data": {
      "text/plain": [
       "<Figure size 640x480 with 2 Axes>"
      ]
     },
     "metadata": {},
     "output_type": "display_data"
    },
    {
     "name": "stdout",
     "output_type": "stream",
     "text": [
      "(1, 17999, 36000)\n",
      "2011-11-07 09:00:00\n",
      "(4200, 2500)\n"
     ]
    },
    {
     "data": {
      "text/plain": [
       "<Figure size 640x480 with 2 Axes>"
      ]
     },
     "metadata": {},
     "output_type": "display_data"
    },
    {
     "name": "stdout",
     "output_type": "stream",
     "text": [
      "(1, 17999, 36000)\n",
      "2011-11-08 09:00:00\n",
      "(4200, 2500)\n"
     ]
    },
    {
     "data": {
      "text/plain": [
       "<Figure size 640x480 with 2 Axes>"
      ]
     },
     "metadata": {},
     "output_type": "display_data"
    },
    {
     "name": "stdout",
     "output_type": "stream",
     "text": [
      "(1, 17999, 36000)\n",
      "2011-11-09 09:00:00\n",
      "(4200, 2500)\n"
     ]
    },
    {
     "data": {
      "text/plain": [
       "<Figure size 640x480 with 2 Axes>"
      ]
     },
     "metadata": {},
     "output_type": "display_data"
    },
    {
     "name": "stdout",
     "output_type": "stream",
     "text": [
      "(1, 17999, 36000)\n",
      "2011-11-10 09:00:00\n",
      "(4200, 2500)\n"
     ]
    },
    {
     "data": {
      "text/plain": [
       "<Figure size 640x480 with 2 Axes>"
      ]
     },
     "metadata": {},
     "output_type": "display_data"
    },
    {
     "name": "stdout",
     "output_type": "stream",
     "text": [
      "(1, 17999, 36000)\n",
      "2011-11-11 09:00:00\n",
      "(4200, 2500)\n"
     ]
    },
    {
     "data": {
      "text/plain": [
       "<Figure size 640x480 with 2 Axes>"
      ]
     },
     "metadata": {},
     "output_type": "display_data"
    },
    {
     "name": "stdout",
     "output_type": "stream",
     "text": [
      "(1, 17999, 36000)\n",
      "2011-11-12 09:00:00\n",
      "(4200, 2500)\n"
     ]
    },
    {
     "data": {
      "text/plain": [
       "<Figure size 640x480 with 2 Axes>"
      ]
     },
     "metadata": {},
     "output_type": "display_data"
    },
    {
     "name": "stdout",
     "output_type": "stream",
     "text": [
      "(1, 17999, 36000)\n",
      "2011-11-13 09:00:00\n",
      "(4200, 2500)\n"
     ]
    },
    {
     "data": {
      "text/plain": [
       "<Figure size 640x480 with 2 Axes>"
      ]
     },
     "metadata": {},
     "output_type": "display_data"
    },
    {
     "name": "stdout",
     "output_type": "stream",
     "text": [
      "(1, 17999, 36000)\n",
      "2011-11-14 09:00:00\n",
      "(4200, 2500)\n"
     ]
    },
    {
     "data": {
      "text/plain": [
       "<Figure size 640x480 with 2 Axes>"
      ]
     },
     "metadata": {},
     "output_type": "display_data"
    },
    {
     "name": "stdout",
     "output_type": "stream",
     "text": [
      "(1, 17999, 36000)\n",
      "2011-11-15 09:00:00\n",
      "(4200, 2500)\n"
     ]
    },
    {
     "data": {
      "text/plain": [
       "<Figure size 640x480 with 2 Axes>"
      ]
     },
     "metadata": {},
     "output_type": "display_data"
    },
    {
     "name": "stdout",
     "output_type": "stream",
     "text": [
      "(1, 17999, 36000)\n",
      "2011-11-16 09:00:00\n",
      "(4200, 2500)\n"
     ]
    },
    {
     "data": {
      "text/plain": [
       "<Figure size 640x480 with 2 Axes>"
      ]
     },
     "metadata": {},
     "output_type": "display_data"
    },
    {
     "name": "stdout",
     "output_type": "stream",
     "text": [
      "(1, 17999, 36000)\n",
      "2011-11-17 09:00:00\n",
      "(4200, 2500)\n"
     ]
    },
    {
     "data": {
      "text/plain": [
       "<Figure size 640x480 with 2 Axes>"
      ]
     },
     "metadata": {},
     "output_type": "display_data"
    },
    {
     "name": "stdout",
     "output_type": "stream",
     "text": [
      "(1, 17999, 36000)\n",
      "2011-11-18 09:00:00\n",
      "(4200, 2500)\n"
     ]
    },
    {
     "data": {
      "text/plain": [
       "<Figure size 640x480 with 2 Axes>"
      ]
     },
     "metadata": {},
     "output_type": "display_data"
    },
    {
     "name": "stdout",
     "output_type": "stream",
     "text": [
      "(1, 17999, 36000)\n",
      "2011-11-19 09:00:00\n",
      "(4200, 2500)\n"
     ]
    },
    {
     "data": {
      "text/plain": [
       "<Figure size 640x480 with 2 Axes>"
      ]
     },
     "metadata": {},
     "output_type": "display_data"
    },
    {
     "name": "stdout",
     "output_type": "stream",
     "text": [
      "(1, 17999, 36000)\n",
      "2011-11-20 09:00:00\n",
      "(4200, 2500)\n"
     ]
    },
    {
     "data": {
      "text/plain": [
       "<Figure size 640x480 with 2 Axes>"
      ]
     },
     "metadata": {},
     "output_type": "display_data"
    },
    {
     "name": "stdout",
     "output_type": "stream",
     "text": [
      "(1, 17999, 36000)\n",
      "2011-11-21 09:00:00\n",
      "(4200, 2500)\n"
     ]
    },
    {
     "data": {
      "text/plain": [
       "<Figure size 640x480 with 2 Axes>"
      ]
     },
     "metadata": {},
     "output_type": "display_data"
    },
    {
     "name": "stdout",
     "output_type": "stream",
     "text": [
      "(1, 17999, 36000)\n",
      "2011-11-22 09:00:00\n",
      "(4200, 2500)\n"
     ]
    },
    {
     "data": {
      "text/plain": [
       "<Figure size 640x480 with 2 Axes>"
      ]
     },
     "metadata": {},
     "output_type": "display_data"
    },
    {
     "name": "stdout",
     "output_type": "stream",
     "text": [
      "(1, 17999, 36000)\n",
      "2011-11-23 09:00:00\n",
      "(4200, 2500)\n"
     ]
    },
    {
     "data": {
      "text/plain": [
       "<Figure size 640x480 with 2 Axes>"
      ]
     },
     "metadata": {},
     "output_type": "display_data"
    },
    {
     "name": "stdout",
     "output_type": "stream",
     "text": [
      "(1, 17999, 36000)\n",
      "2011-11-24 09:00:00\n",
      "(4200, 2500)\n"
     ]
    },
    {
     "data": {
      "text/plain": [
       "<Figure size 640x480 with 2 Axes>"
      ]
     },
     "metadata": {},
     "output_type": "display_data"
    },
    {
     "name": "stdout",
     "output_type": "stream",
     "text": [
      "(1, 17999, 36000)\n",
      "2011-11-25 09:00:00\n",
      "(4200, 2500)\n"
     ]
    },
    {
     "data": {
      "text/plain": [
       "<Figure size 640x480 with 2 Axes>"
      ]
     },
     "metadata": {},
     "output_type": "display_data"
    },
    {
     "name": "stdout",
     "output_type": "stream",
     "text": [
      "(1, 17999, 36000)\n",
      "2011-11-26 09:00:00\n",
      "(4200, 2500)\n"
     ]
    },
    {
     "data": {
      "text/plain": [
       "<Figure size 640x480 with 2 Axes>"
      ]
     },
     "metadata": {},
     "output_type": "display_data"
    },
    {
     "name": "stdout",
     "output_type": "stream",
     "text": [
      "(1, 17999, 36000)\n",
      "2011-11-27 09:00:00\n",
      "(4200, 2500)\n"
     ]
    },
    {
     "data": {
      "text/plain": [
       "<Figure size 640x480 with 2 Axes>"
      ]
     },
     "metadata": {},
     "output_type": "display_data"
    },
    {
     "name": "stdout",
     "output_type": "stream",
     "text": [
      "(1, 17999, 36000)\n",
      "2011-11-28 09:00:00\n",
      "(4200, 2500)\n"
     ]
    },
    {
     "data": {
      "text/plain": [
       "<Figure size 640x480 with 2 Axes>"
      ]
     },
     "metadata": {},
     "output_type": "display_data"
    },
    {
     "name": "stdout",
     "output_type": "stream",
     "text": [
      "(1, 17999, 36000)\n",
      "2011-11-29 09:00:00\n",
      "(4200, 2500)\n"
     ]
    },
    {
     "data": {
      "text/plain": [
       "<Figure size 640x480 with 2 Axes>"
      ]
     },
     "metadata": {},
     "output_type": "display_data"
    },
    {
     "name": "stdout",
     "output_type": "stream",
     "text": [
      "(1, 17999, 36000)\n",
      "2011-11-30 09:00:00\n",
      "(4200, 2500)\n"
     ]
    },
    {
     "data": {
      "text/plain": [
       "<Figure size 640x480 with 2 Axes>"
      ]
     },
     "metadata": {},
     "output_type": "display_data"
    }
   ],
   "source": [
    "# Load needed Python modules\n",
    "import netCDF4\n",
    "import matplotlib.pyplot as plt\n",
    "import os\n",
    "import astropy\n",
    "import numpy as np\n",
    "from astropy.convolution import convolve as ap_convolve\n",
    "from astropy.convolution import Box2DKernel\n",
    "from netCDF4 import num2date\n",
    "\n",
    "# Change to SSD with files\n",
    "os.chdir('/nfs/cnhlab003/cnh')\n",
    "\n",
    "for filename in os.listdir('mur-sst'):\n",
    "    if filename[:6] == '201111':\n",
    "\n",
    "        # Create \"handle\" to access netCDF file\n",
    "        tFile = netCDF4.Dataset('mur-sst/'+filename)\n",
    "\n",
    "        # Extract data from file\n",
    "        sst=tFile['analysed_sst']\n",
    "        date_num = tFile['time'][:]\n",
    "        units = tFile.variables['time'].units\n",
    "\n",
    "        # Check dimensions\n",
    "        print(sst.shape)\n",
    "\n",
    "        #Print time\n",
    "        date = num2date(date_num, units)[0]\n",
    "        print(date)\n",
    "\n",
    "        # Extract a subregion\n",
    "        sstReg=sst[0,10800:15000,1000:3500]-273.\n",
    "        print(sstReg.shape)\n",
    "\n",
    "        # Convolve\n",
    "        box_2D_kernel = Box2DKernel(9)\n",
    "        nan=float('nan')\n",
    "        sstReg=np.ma.filled(sstReg,nan)\n",
    "        sstReg[ :, 0]=nan\n",
    "        sstReg[ 0, :]=nan\n",
    "        sstReg[ :,-1]=nan\n",
    "        sstReg[-1, :]=nan\n",
    "        sstReg2=ap_convolve(sstReg, box_2D_kernel)\n",
    "        \n",
    "        dd=sstReg2\n",
    "        dd=dd[9:-9, 9:-9]\n",
    "        dd=np.ma.masked_invalid(dd)\n",
    "        ddmean=np.mean(dd)\n",
    "        ddstd=np.std(dd)\n",
    "        dd=dd-ddmean\n",
    "        \n",
    "        fig = plt.imshow(dd,origin='lower',cmap='prism')\n",
    "        plt.colorbar()\n",
    "        plt.title(str(date))\n",
    "        os.chdir('/home/culberta/convolved-imgs')\n",
    "        plt.savefig(str(date) + '.png')\n",
    "        plt.show()\n",
    "        plt.clf()\n",
    "        os.chdir('/nfs/cnhlab003/cnh')"
   ]
  },
  {
   "cell_type": "code",
   "execution_count": null,
   "metadata": {},
   "outputs": [],
   "source": []
  }
 ],
 "metadata": {
  "kernelspec": {
   "display_name": "Python 3",
   "language": "python",
   "name": "python3"
  },
  "language_info": {
   "codemirror_mode": {
    "name": "ipython",
    "version": 3
   },
   "file_extension": ".py",
   "mimetype": "text/x-python",
   "name": "python",
   "nbconvert_exporter": "python",
   "pygments_lexer": "ipython3",
   "version": "3.6.5"
  }
 },
 "nbformat": 4,
 "nbformat_minor": 2
}
